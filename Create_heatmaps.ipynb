{
 "cells": [
  {
   "cell_type": "code",
   "execution_count": 3,
   "id": "15e3ad91-a2a9-4e77-a76a-01b2021ed68b",
   "metadata": {},
   "outputs": [],
   "source": [
    "#pip install bioinfokit"
   ]
  },
  {
   "cell_type": "code",
   "execution_count": 1,
   "id": "14625268-552a-4cbf-b326-713e67846c6b",
   "metadata": {},
   "outputs": [],
   "source": [
    "import numpy as np\n",
    "import pandas as pd\n",
    "import seaborn as sb\n",
    "from bioinfokit import analys, visuz"
   ]
  },
  {
   "cell_type": "code",
   "execution_count": 38,
   "id": "2629de9d-b4e1-486e-9c19-74eb1ac5c0ca",
   "metadata": {},
   "outputs": [],
   "source": [
    "merged_df_liver = pd.read_csv(\"merged_df_liver_updated.csv\", sep = \",\", low_memory = False)"
   ]
  },
  {
   "cell_type": "code",
   "execution_count": 39,
   "id": "355d3560-9ae3-4a0b-b4ad-8ab1a5578cfc",
   "metadata": {},
   "outputs": [],
   "source": [
    "merged_df_spleen = pd.read_csv(\"merged_df_spleen_updated.csv\", sep = \",\", low_memory = False)"
   ]
  },
  {
   "cell_type": "code",
   "execution_count": 40,
   "id": "1290f4d4-82a0-4f28-bfb6-9c066a138fee",
   "metadata": {},
   "outputs": [],
   "source": [
    "merged_df_silp = pd.read_csv(\"merged_df_SiLP_updated.csv\", sep = \",\", low_memory = False)"
   ]
  },
  {
   "cell_type": "code",
   "execution_count": 41,
   "id": "26f89492-ce6e-43c9-9788-b8fe539229a6",
   "metadata": {},
   "outputs": [],
   "source": [
    "merged_df_liver.drop(columns = \"Unnamed: 0\", inplace=True)"
   ]
  },
  {
   "cell_type": "code",
   "execution_count": 42,
   "id": "41965a1d-ae3e-41c1-bf88-c4e978a49bab",
   "metadata": {},
   "outputs": [],
   "source": [
    "merged_df_spleen.drop(columns = \"Unnamed: 0\", inplace=True)"
   ]
  },
  {
   "cell_type": "code",
   "execution_count": 43,
   "id": "a81c6375-c86a-4b08-aa93-80d372c8bb42",
   "metadata": {},
   "outputs": [],
   "source": [
    "merged_df_silp.drop(columns = \"Unnamed: 0\", inplace=True)"
   ]
  },
  {
   "cell_type": "code",
   "execution_count": 53,
   "id": "8657b095-6766-4a06-8a02-f50afce35d9c",
   "metadata": {},
   "outputs": [],
   "source": [
    "sorted_merged_df_liver = merged_df_liver.sort_values(by = ['HalleLiver_log2FoldChange'], ascending = False)"
   ]
  },
  {
   "cell_type": "code",
   "execution_count": 54,
   "id": "03729084-d897-4c7f-80a5-eda933b12a67",
   "metadata": {},
   "outputs": [],
   "source": [
    "sorted_merged_df_spleen = merged_df_spleen.sort_values(by = ['HalleLiver_log2FoldChange'], ascending = False)"
   ]
  },
  {
   "cell_type": "code",
   "execution_count": 55,
   "id": "2489f210-567a-4705-821a-cdbcba7beba2",
   "metadata": {},
   "outputs": [],
   "source": [
    "sorted_merged_df_silp = merged_df_silp.sort_values(by = ['HalleLiver_log2FoldChange'], ascending = False)"
   ]
  },
  {
   "cell_type": "code",
   "execution_count": 56,
   "id": "eefc5d6c-9c82-4b39-8b1c-c863f144bd6c",
   "metadata": {},
   "outputs": [],
   "source": [
    "sorted_merged_df_liver.set_index('gene', inplace=True)"
   ]
  },
  {
   "cell_type": "code",
   "execution_count": 57,
   "id": "6c0aeb86-537c-46af-90a9-649b4e3dbba6",
   "metadata": {},
   "outputs": [],
   "source": [
    "sorted_merged_df_spleen.set_index('gene', inplace=True)"
   ]
  },
  {
   "cell_type": "code",
   "execution_count": 58,
   "id": "22fce502-c1ae-4ccf-9203-3fee55c4a21e",
   "metadata": {},
   "outputs": [],
   "source": [
    "sorted_merged_df_silp.set_index('gene', inplace=True)"
   ]
  },
  {
   "cell_type": "code",
   "execution_count": 59,
   "id": "7dfefdc1-0b02-4c16-9298-82f4e39c0096",
   "metadata": {},
   "outputs": [],
   "source": [
    "visuz.gene_exp.hmap(df=sorted_merged_df_liver, rowclus=False, colclus=False, dim=(3, 15), tickfont=(6, 4), figtype = \"pdf\", figname = \"New liver heatmap\")"
   ]
  },
  {
   "cell_type": "code",
   "execution_count": 60,
   "id": "cd2967fe-0fdd-4a4e-a89d-eba1cf0331e0",
   "metadata": {},
   "outputs": [],
   "source": [
    "visuz.gene_exp.hmap(df=sorted_merged_df_spleen, rowclus=False, colclus=False, dim=(3, 15), tickfont=(6, 4), figtype = \"pdf\", figname = \"New spleen heatmap\")"
   ]
  },
  {
   "cell_type": "code",
   "execution_count": 61,
   "id": "9785061f-a802-481b-bf14-55e00bc5d8f9",
   "metadata": {},
   "outputs": [],
   "source": [
    "visuz.gene_exp.hmap(df=sorted_merged_df_silp, rowclus=False, colclus=False, dim=(3, 15), tickfont=(6, 4), figtype = \"pdf\", figname = \"New SiLP heatmap\")"
   ]
  },
  {
   "cell_type": "code",
   "execution_count": null,
   "id": "e1c8a8c6-0530-41c1-97f6-ae15679a375a",
   "metadata": {},
   "outputs": [],
   "source": []
  }
 ],
 "metadata": {
  "kernelspec": {
   "display_name": "Python 3 (ipykernel)",
   "language": "python",
   "name": "python3"
  },
  "language_info": {
   "codemirror_mode": {
    "name": "ipython",
    "version": 3
   },
   "file_extension": ".py",
   "mimetype": "text/x-python",
   "name": "python",
   "nbconvert_exporter": "python",
   "pygments_lexer": "ipython3",
   "version": "3.12.4"
  }
 },
 "nbformat": 4,
 "nbformat_minor": 5
}
